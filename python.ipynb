{
 "cells": [
  {
   "cell_type": "code",
   "execution_count": 3,
   "metadata": {},
   "outputs": [],
   "source": [
    "#Exemplos de listas em Python\n",
    "frutas = [\"laranja\", \"maça\", \"uva\"]\n",
    "letras = list(\"python\") # Aqui o list() tranforma o que passarmos em uma lista, nmeste caso uma lista com cada letra da palavra 'python'\n",
    "numeros = list(range(10))#lista de 0 a 9\n",
    "carro= [\"Ferrari\", \"F8\", 420000, 2020, 2900, \"São Paulo\" , True] #Podemos ter valores de tipos diferentes em listas do Python\n",
    "pares= []"
   ]
  },
  {
   "cell_type": "code",
   "execution_count": 4,
   "metadata": {},
   "outputs": [
    {
     "name": "stdout",
     "output_type": "stream",
     "text": [
      "['uva', 'laranja']\n",
      "['maça']\n"
     ]
    }
   ],
   "source": [
    "print(frutas[::-2])\n",
    "print(frutas[1::-2])"
   ]
  },
  {
   "cell_type": "code",
   "execution_count": 5,
   "metadata": {},
   "outputs": [
    {
     "name": "stdout",
     "output_type": "stream",
     "text": [
      "1\n",
      "Zeus\n"
     ]
    }
   ],
   "source": [
    "#exemplo de criação de uma matriz em Python\n",
    "#podemos resumir uma matriz um conjunto de listas que assim representam suas colunas e linhas e navegamos por elas igual na lista sendo matriz[linha][coluna]\n",
    "matriz= [\n",
    "            [1,2,3,4,5],\n",
    "            [\"a\",\"b\",\"c\"],\n",
    "            [\"Nina\",\"Zeus\",\"Theo\"]\n",
    "        ]\n",
    "print(matriz[0][0])#impressão do numero1\n",
    "print(matriz[2][1])#impressão do nome Zeus"
   ]
  },
  {
   "cell_type": "code",
   "execution_count": 6,
   "metadata": {},
   "outputs": [
    {
     "name": "stdout",
     "output_type": "stream",
     "text": [
      "laranja\n",
      "maça\n",
      "uva\n",
      "Interação com range()\n",
      "0: 0\n",
      "1: 1\n",
      "2: 2\n",
      "3: 3\n",
      "4: 4\n",
      "5: 5\n",
      "6: 6\n",
      "7: 7\n",
      "8: 8\n",
      "9: 9\n",
      "Iteração com Enumerate()\n",
      "0: laranja\n",
      "1: maça\n",
      "2: uva\n"
     ]
    }
   ],
   "source": [
    "#interando por uma lista com for\n",
    "for fruta in frutas:\n",
    "    print(fruta)\n",
    "\n",
    "#caso quisermos ter um indice das frutas podemos fazer de duas formas\n",
    "#nesta primeira, podemos interar a lista com o range(valor) passando o tamanho da lista\n",
    "print(\"Interação com range()\")\n",
    "for i in range(len(numeros)):\n",
    "    print(f\"{i}: {numeros[i]}\")\n",
    "\n",
    "#outra forma é usando o enumarate, o enumerate() retorna um indice para cada item na coleção sem nós usarmos o range\n",
    "print(\"Iteração com Enumerate()\")\n",
    "for i, fruta in enumerate(frutas):\n",
    "    print(f\"{i}: {fruta}\")\n",
    "\n"
   ]
  },
  {
   "cell_type": "code",
   "execution_count": 7,
   "metadata": {},
   "outputs": [
    {
     "name": "stdout",
     "output_type": "stream",
     "text": [
      "[0, 2, 4, 6, 8]\n"
     ]
    }
   ],
   "source": [
    "#compreensao de listas, é uma forma mais enxuta de criar uma lista\n",
    "#sintaxe: lista_nova = [var_retorno interacao_var_retorno complemneto_se_necessario]\n",
    "\n",
    "pares = [numero for numero in numeros if numero%2 == 0] #vai interar sobre numeros e salvar em pares se o numero modulo de 2 = zero\n",
    "\n",
    "print(pares)"
   ]
  },
  {
   "cell_type": "code",
   "execution_count": 8,
   "metadata": {},
   "outputs": [
    {
     "name": "stdout",
     "output_type": "stream",
     "text": [
      "[1, 'python', [40, 30, 20]]\n"
     ]
    }
   ],
   "source": [
    "#funções em listas\n",
    "lista= []\n",
    "\n",
    "#append() adiciona um elemento ni final da lista\n",
    "lista.append(1)\n",
    "lista.append(\"python\")\n",
    "lista.append([40,30,20])\n",
    "\n",
    "print(lista)"
   ]
  },
  {
   "cell_type": "code",
   "execution_count": 9,
   "metadata": {},
   "outputs": [
    {
     "name": "stdout",
     "output_type": "stream",
     "text": [
      "[]\n"
     ]
    }
   ],
   "source": [
    "#clear() esvazia a nossa lista\n",
    "lista.clear()\n",
    "\n",
    "print(lista)"
   ]
  },
  {
   "cell_type": "code",
   "execution_count": 10,
   "metadata": {},
   "outputs": [
    {
     "name": "stdout",
     "output_type": "stream",
     "text": [
      "Enderoço de memoria das duas.\n",
      " lista: ['item1', 50, 'Ford', 58] \n",
      " Cópia: ['item1', 50, 'Ford', 58]\n"
     ]
    }
   ],
   "source": [
    "#copy() cria uma copia de uma lista para outra, porém, não é a mesma lista, são dois objetos identicos mas não iguais\n",
    "lista = [\"item1\", 50, \"Ford\", 58]\n",
    "lista_copia= lista.copy()\n",
    "\n",
    "\n",
    "print(f\"Enderoço de memoria das duas.\\n lista: {lista} \\n Cópia: {lista_copia}\")\n"
   ]
  },
  {
   "cell_type": "code",
   "execution_count": 11,
   "metadata": {},
   "outputs": [
    {
     "data": {
      "text/plain": [
       "1"
      ]
     },
     "execution_count": 11,
     "metadata": {},
     "output_type": "execute_result"
    }
   ],
   "source": [
    "#count() recebe de parâmetro um objeto e conta quantas ocorrências deste objeto estão presentes na lista\n",
    "lista.count(50)\n"
   ]
  },
  {
   "cell_type": "code",
   "execution_count": 12,
   "metadata": {},
   "outputs": [
    {
     "name": "stdout",
     "output_type": "stream",
     "text": [
      "['item1', 50, 'Ford', 58, 'Chevolet', 5000, 8, 647]\n"
     ]
    }
   ],
   "source": [
    "#extend() serve para juntarmos duas listas, diferente do append() que iria adicionar a segunda lista como um único objeto na primeira, o extend() adiciona cada elemento presente da segunda lista na orimeira\n",
    "\n",
    "lista2 = [\"Chevolet\", 5000, 8, 647]\n",
    "lista.extend(lista2)\n",
    "\n",
    "print(lista)\n"
   ]
  },
  {
   "cell_type": "code",
   "execution_count": 13,
   "metadata": {},
   "outputs": [
    {
     "name": "stdout",
     "output_type": "stream",
     "text": [
      "['item1', 50, 'Ford', 58, 5000, 8]\n"
     ]
    }
   ],
   "source": [
    "#pop() e remove(), pop() remove o ultimo item da lista enquanto remove() remvove um item especifico passado por parâmetro\n",
    "lista.pop()\n",
    "lista.remove(\"Chevolet\")\n",
    "print(lista)"
   ]
  },
  {
   "cell_type": "code",
   "execution_count": 14,
   "metadata": {},
   "outputs": [
    {
     "name": "stdout",
     "output_type": "stream",
     "text": [
      "[8, 5000, 58, 'Ford', 50, 'item1']\n"
     ]
    }
   ],
   "source": [
    "#reverse() inverte a lista\n",
    "lista.reverse()\n",
    "print(lista)"
   ]
  },
  {
   "cell_type": "code",
   "execution_count": 15,
   "metadata": {},
   "outputs": [
    {
     "name": "stdout",
     "output_type": "stream",
     "text": [
      "[1, 2, 3, 5, 8]\n",
      "['André', 'Beatriz', 'Carlos', 'ana']\n",
      "['ana', 'André', 'Beatriz', 'Carlos']\n"
     ]
    }
   ],
   "source": [
    "#sort() organiza os dados dentro da nossa lista, e temos diversas formas de usar\n",
    "#ordenação simples\n",
    "\n",
    "numeros= [5,3,8,1,2]\n",
    "numeros.sort()\n",
    "\n",
    "nomes= [\"Carlos\", \"ana\", \"André\", \"Beatriz\"]\n",
    "nomes.sort()\n",
    "\n",
    "print(numeros)\n",
    "print(nomes)\n",
    "\n",
    "nomes.sort(key=str.lower)#ordenando sem diferenciar maiúsculas e minúsculas\n",
    "print(nomes)"
   ]
  },
  {
   "cell_type": "code",
   "execution_count": 16,
   "metadata": {},
   "outputs": [
    {
     "name": "stdout",
     "output_type": "stream",
     "text": [
      "[8, 5, 3, 2, 1]\n"
     ]
    }
   ],
   "source": [
    "#invertendo uma lista\n",
    "numeros.sort(reverse=True)\n",
    "print(numeros)"
   ]
  },
  {
   "cell_type": "code",
   "execution_count": 17,
   "metadata": {},
   "outputs": [
    {
     "name": "stdout",
     "output_type": "stream",
     "text": [
      "['cão', 'gato', 'elefante', 'papagaio']\n"
     ]
    }
   ],
   "source": [
    "#usando um função key, essa função permite personalizar a lógica de ordenação\n",
    "palavras = [\"gato\", \"elefante\", \"cão\", \"papagaio\"]\n",
    "palavras.sort(key=len) #ordenando por tamanaho da palavra\n",
    "print(palavras)"
   ]
  },
  {
   "cell_type": "code",
   "execution_count": 18,
   "metadata": {},
   "outputs": [
    {
     "name": "stdout",
     "output_type": "stream",
     "text": [
      "[(5, 0), (4, 1), (2, 2), (1, 3)]\n"
     ]
    }
   ],
   "source": [
    "#ordenacao em lambda em key\n",
    "lista_tuplas = [(1,3), (4,1), (2,2,), (5,0)]\n",
    "lista_tuplas.sort(key=lambda x: x[1])#ordenando a partir do segundo item de cada tupla da lista\n",
    "\n",
    "print(lista_tuplas)"
   ]
  },
  {
   "cell_type": "code",
   "execution_count": 19,
   "metadata": {},
   "outputs": [
    {
     "name": "stdout",
     "output_type": "stream",
     "text": [
      "[1, 2, 3, 4, 5, 6, 8, 9, 10, 11]\n"
     ]
    }
   ],
   "source": [
    "#podemos ordenar uma lista sem alterar ela com sorted()\n",
    "numeros= [5,8,4,9,6,3,1,11,10,2]\n",
    "numeros_ordenados = sorted(numeros)\n",
    "print(numeros_ordenados)"
   ]
  },
  {
   "cell_type": "code",
   "execution_count": 20,
   "metadata": {},
   "outputs": [
    {
     "name": "stdout",
     "output_type": "stream",
     "text": [
      "[11, 10, 9, 8, 6, 5, 4, 3, 2, 1]\n"
     ]
    }
   ],
   "source": [
    "#invertendo a lista com sorted()\n",
    "numeros= [5,8,4,9,6,3,1,11,10,2]\n",
    "numeros_ordenados = sorted(numeros, reverse=True)\n",
    "print(numeros_ordenados)"
   ]
  },
  {
   "cell_type": "code",
   "execution_count": 21,
   "metadata": {},
   "outputs": [],
   "source": [
    "#ordenação com multiploes critérios, ordenar primeiro por um critério e depois por outro\n",
    "\n",
    "tuplas = [(1,3), (4,1), (2,2), (5,1)]\n",
    "tuplas.sort(key=lambda x: (x[1], x[0])) #ordena pelo segundo elemento e depois pelo"
   ]
  },
  {
   "cell_type": "code",
   "execution_count": 22,
   "metadata": {},
   "outputs": [
    {
     "name": "stdout",
     "output_type": "stream",
     "text": [
      "(5, 2, 6, 7, 5, 6, 7)\n",
      "((5, 0), (4, 1), (2, 2), (1, 3))\n"
     ]
    }
   ],
   "source": [
    "#tuplas são estruturas parecidas com listas, porém são imutaveis e as declaramos com (). como são imutaveis possuem apenas dois métodos\n",
    "tupla = (5,2,6,7,5,6,7)\n",
    "tupla_criada = tuple(lista_tuplas)#criando tupla de tuplas\n",
    "\n",
    "print(tupla)\n",
    "print(tupla_criada)"
   ]
  },
  {
   "cell_type": "code",
   "execution_count": 23,
   "metadata": {},
   "outputs": [
    {
     "name": "stdout",
     "output_type": "stream",
     "text": [
      "{1, 2, 3, 4, 5, 6}\n",
      "{8, 5000, 50, 'item1', 58, 'Ford'}\n"
     ]
    }
   ],
   "source": [
    "#set() coleção projetada para elementos únicos, ou seja não podemos ter elementos repetidos dentro desta coleção, porém ela não garante a ordem dos nossos dados, um set é nomeado com set = {} ou  set(conteudo) conjuntos no python não suportam indexação nem fatiamento então para acessar valores, normlamnete tranformamos um set em uma lista e a percorremos.\n",
    "\n",
    "set1 = {1,2,3,4,5,6}\n",
    "set2 = set(lista)\n",
    "\n",
    "print(set1)\n",
    "print(set2)"
   ]
  },
  {
   "cell_type": "code",
   "execution_count": 24,
   "metadata": {},
   "outputs": [
    {
     "name": "stdout",
     "output_type": "stream",
     "text": [
      "{1, 2, 3, 4, 5, 6, 7}\n"
     ]
    }
   ],
   "source": [
    "#os métodos em set são:\n",
    "#add(x) adiciona elementos ao set\n",
    "set1.add(7)\n",
    "print(set1)"
   ]
  },
  {
   "cell_type": "code",
   "execution_count": 25,
   "metadata": {},
   "outputs": [
    {
     "name": "stdout",
     "output_type": "stream",
     "text": [
      "{1, 2, 3, 4, 5, 6}\n"
     ]
    }
   ],
   "source": [
    "#remove(x) remove um elemento especifico, porém se o elemento não existir retorna um erro\n",
    "set1.remove(7)\n",
    "print(set1)"
   ]
  },
  {
   "cell_type": "code",
   "execution_count": 26,
   "metadata": {},
   "outputs": [
    {
     "name": "stdout",
     "output_type": "stream",
     "text": [
      "{1, 2, 3, 4, 6}\n"
     ]
    }
   ],
   "source": [
    "#discard(x) semelhante ao remove(x), porém não retorna erro se o objeto não existir\n",
    "set1.discard(5)\n",
    "print(set1)\n",
    "set1.discard(5) #essa segunda chamada não gera erro"
   ]
  },
  {
   "cell_type": "code",
   "execution_count": 27,
   "metadata": {},
   "outputs": [
    {
     "name": "stdout",
     "output_type": "stream",
     "text": [
      "1\n"
     ]
    }
   ],
   "source": [
    "#pop() remove e retorna um elemento arbitrário do conjunto\n",
    "elemento = set1.pop()\n",
    "print(elemento)"
   ]
  },
  {
   "cell_type": "code",
   "execution_count": 28,
   "metadata": {},
   "outputs": [
    {
     "name": "stdout",
     "output_type": "stream",
     "text": [
      "set()\n"
     ]
    }
   ],
   "source": [
    "#clear() remove todos os elementos do conjunto\n",
    "set1.clear()\n",
    "print(set1)"
   ]
  },
  {
   "cell_type": "code",
   "execution_count": 29,
   "metadata": {},
   "outputs": [
    {
     "name": "stdout",
     "output_type": "stream",
     "text": [
      "[5, 8, 4, 9, 6, 3, 1, 11, 10, 2]\n"
     ]
    }
   ],
   "source": [
    "#copy() retorna uma cópia rasa do conjunto\n",
    "set1= numeros.copy()\n",
    "print(set1)"
   ]
  },
  {
   "cell_type": "code",
   "execution_count": 30,
   "metadata": {},
   "outputs": [
    {
     "name": "stdout",
     "output_type": "stream",
     "text": [
      "{1, 2, 3, 4, 5, 6, 7}\n"
     ]
    }
   ],
   "source": [
    "#union(other_set) retorna a união de dois conjuntos, ou seja todos os elementos presentes em qualquer um dos conjuntos\n",
    "conjunto1 = {1,2,3,4}\n",
    "conjunto2 = {4,5,6,7}\n",
    "\n",
    "print(conjunto1.union(conjunto2))"
   ]
  },
  {
   "cell_type": "code",
   "execution_count": 31,
   "metadata": {},
   "outputs": [
    {
     "name": "stdout",
     "output_type": "stream",
     "text": [
      "{4}\n"
     ]
    }
   ],
   "source": [
    "#intersection(other_set) retorna a interseção dos conjuntos, ou seha, os elementos que estão presente em ambos\n",
    "print(conjunto1.intersection(conjunto2))"
   ]
  },
  {
   "cell_type": "code",
   "execution_count": 32,
   "metadata": {},
   "outputs": [
    {
     "name": "stdout",
     "output_type": "stream",
     "text": [
      "{1, 2, 3}\n"
     ]
    }
   ],
   "source": [
    "#difference(other_set) retorna os elementos que estão no conjunto original mas não no outro conjunto\n",
    "print(conjunto1.difference(conjunto2))"
   ]
  },
  {
   "cell_type": "code",
   "execution_count": 33,
   "metadata": {},
   "outputs": [
    {
     "name": "stdout",
     "output_type": "stream",
     "text": [
      "{1, 2, 3, 5, 6, 7}\n"
     ]
    }
   ],
   "source": [
    "#symmetric_difference(other_set) retorna os elementos que estão em um dos conjuntos, mas não em ambos\n",
    "print(conjunto1.symmetric_difference(conjunto2))"
   ]
  },
  {
   "cell_type": "code",
   "execution_count": 34,
   "metadata": {},
   "outputs": [
    {
     "name": "stdout",
     "output_type": "stream",
     "text": [
      "False\n"
     ]
    }
   ],
   "source": [
    "#issubset(other_set) retorna True se o conjunto for umsubconjunto de outro, ou seja, se todos os elementos do conjunto A estiverem presente no conjunto B\n",
    "\n",
    "print(conjunto1.issubset(conjunto2))#ve se tudo de B está em A"
   ]
  },
  {
   "cell_type": "code",
   "execution_count": 35,
   "metadata": {},
   "outputs": [
    {
     "name": "stdout",
     "output_type": "stream",
     "text": [
      "False\n"
     ]
    }
   ],
   "source": [
    "#issuperset(others_set) o exato oposto do issubset(), esse vai ver se o conjunto A está inteiramente presente no conjunto B\n",
    "\n",
    "print(conjunto1.issuperset(conjunto2))#ve se tudo de A está em B"
   ]
  },
  {
   "cell_type": "code",
   "execution_count": 36,
   "metadata": {},
   "outputs": [
    {
     "name": "stdout",
     "output_type": "stream",
     "text": [
      "False\n"
     ]
    }
   ],
   "source": [
    "#isdisjoint(other_set) retorna True se os dois conjuntos não tiverem nenhum elemento em comum\n",
    "print(conjunto1.isdisjoint(conjunto2))"
   ]
  },
  {
   "cell_type": "code",
   "execution_count": 37,
   "metadata": {},
   "outputs": [
    {
     "name": "stdout",
     "output_type": "stream",
     "text": [
      "Guilherme 28\n"
     ]
    }
   ],
   "source": [
    "#dicionários, são conjuntos de chave e valor, podemos criar dicionários das seguintes formas {chave: valor, chave:valor ...} ou dict(chave: valor, chave: valor ...)\n",
    "\n",
    "contatos = {\"@guilhermegmail.com\": {\"nome\": \"Guilherme\", \"idade\": 28},\n",
    "            \"@mariagmail.com\": {\"nome\": \"Maria\", \"idade\": 22},\n",
    "            \"@sheilagmail.com\": {\"nome\": \"Sheila\", \"idade\": 48}\n",
    "            } #criando um dicionario onde a chave é o email, e o valor é um outro dicionario, com dados da pessoa\n",
    "\n",
    "print(contatos[\"@guilhermegmail.com\"][\"nome\"],\n",
    "contatos[\"@guilhermegmail.com\"][\"idade\"])"
   ]
  },
  {
   "cell_type": "code",
   "execution_count": 38,
   "metadata": {},
   "outputs": [
    {
     "name": "stdout",
     "output_type": "stream",
     "text": [
      "@guilhermegmail.com {'nome': 'Guilherme', 'idade': 28}\n",
      "@mariagmail.com {'nome': 'Maria', 'idade': 22}\n",
      "@sheilagmail.com {'nome': 'Sheila', 'idade': 48}\n"
     ]
    }
   ],
   "source": [
    "#inteirando por um dicionário, assim ele por padrão retorna a chave\n",
    "for chave in contatos:\n",
    "    print(chave, contatos[chave])"
   ]
  },
  {
   "cell_type": "code",
   "execution_count": 39,
   "metadata": {},
   "outputs": [
    {
     "name": "stdout",
     "output_type": "stream",
     "text": [
      "@guilhermegmail.com {'nome': 'Guilherme', 'idade': 28}\n",
      "@mariagmail.com {'nome': 'Maria', 'idade': 22}\n",
      "@sheilagmail.com {'nome': 'Sheila', 'idade': 48}\n"
     ]
    }
   ],
   "source": [
    "#iteirando com items(), ele retorna um conjunto de chave e valor\n",
    "for chave, valor in contatos.items():\n",
    "    print(chave, valor)"
   ]
  },
  {
   "cell_type": "code",
   "execution_count": 40,
   "metadata": {},
   "outputs": [
    {
     "data": {
      "text/plain": [
       "'Valor desconhecido'"
      ]
     },
     "execution_count": 40,
     "metadata": {},
     "output_type": "execute_result"
    }
   ],
   "source": [
    "#metodos usado em dicionários\n",
    "#get(chave, valor_padrão) melhor forma de consultar um valor pela chave se resultar erros se a key não existir\n",
    "contatos.get(\"@guilhermegmail.com\")\n",
    "contatos.get(\"feliperodri2701@gmail.com\",\"Valor desconhecido\")"
   ]
  },
  {
   "cell_type": "code",
   "execution_count": 41,
   "metadata": {},
   "outputs": [
    {
     "name": "stdout",
     "output_type": "stream",
     "text": [
      "dict_items([('@guilhermegmail.com', {'nome': 'Guilherme', 'idade': 28}), ('@mariagmail.com', {'nome': 'Maria', 'idade': 22}), ('@sheilagmail.com', {'nome': 'Sheila', 'idade': 48})])\n"
     ]
    }
   ],
   "source": [
    "#items() retorna uma lista de tuplas com chave e valor\n",
    "print(contatos.items())"
   ]
  },
  {
   "cell_type": "code",
   "execution_count": 42,
   "metadata": {},
   "outputs": [
    {
     "name": "stdout",
     "output_type": "stream",
     "text": [
      "dict_keys(['@guilhermegmail.com', '@mariagmail.com', '@sheilagmail.com'])\n"
     ]
    }
   ],
   "source": [
    "#retorna uma lista com apenas as chaves do diocionário\n",
    "print(contatos.keys())"
   ]
  },
  {
   "cell_type": "code",
   "execution_count": 43,
   "metadata": {},
   "outputs": [
    {
     "name": "stdout",
     "output_type": "stream",
     "text": [
      "dict_values([{'nome': 'Guilherme', 'idade': 28}, {'nome': 'Maria', 'idade': 22}, {'nome': 'Sheila', 'idade': 48}])\n"
     ]
    }
   ],
   "source": [
    "#retorna uma lista com os vallores do dicionario\n",
    "print(contatos.values())"
   ]
  },
  {
   "cell_type": "code",
   "execution_count": 44,
   "metadata": {},
   "outputs": [
    {
     "name": "stdout",
     "output_type": "stream",
     "text": [
      "{'@guilhermegmail.com': {'nome': 'Guilherme', 'idade': 28}, '@mariagmail.com': {'nome': 'Maria', 'idade': 22}}\n"
     ]
    }
   ],
   "source": [
    "#popitem() apagar o ultimo item do dicionário\n",
    "contatos.popitem()\n",
    "print(contatos)"
   ]
  },
  {
   "cell_type": "code",
   "execution_count": 45,
   "metadata": {},
   "outputs": [
    {
     "name": "stdout",
     "output_type": "stream",
     "text": [
      "{'@guilhermegmail.com': {'nome': 'Guilherme', 'idade': 29}, '@mariagmail.com': {'nome': 'Maria', 'idade': 22}, '@joaogmail.com': {'nome': 'João', 'idade': 35}}\n"
     ]
    }
   ],
   "source": [
    "#update(other_dict) recebe outro dicionário como parâmetro, serve para atualizar uma chave especifica do dicionário\n",
    "novos_dados = {\n",
    "    \"@guilhermegmail.com\": {\"nome\": \"Guilherme\", \"idade\": 29},  # Atualiza idade\n",
    "    \"@joaogmail.com\": {\"nome\": \"João\", \"idade\": 35}            # Adiciona nova entrada\n",
    "}\n",
    "\n",
    "contatos.update(novos_dados)\n",
    "\n",
    "print(contatos)"
   ]
  },
  {
   "cell_type": "code",
   "execution_count": 47,
   "metadata": {},
   "outputs": [
    {
     "name": "stdout",
     "output_type": "stream",
     "text": [
      "True\n"
     ]
    }
   ],
   "source": [
    "#in ver se um objet/chave está presente no dicionário\n",
    "\n",
    "print(\"@guilhermegmail.com\" in contatos)"
   ]
  },
  {
   "cell_type": "code",
   "execution_count": null,
   "metadata": {},
   "outputs": [
    {
     "ename": "KeyError",
     "evalue": "'@guilhermegmail.com'",
     "output_type": "error",
     "traceback": [
      "\u001b[1;31m---------------------------------------------------------------------------\u001b[0m",
      "\u001b[1;31mKeyError\u001b[0m                                  Traceback (most recent call last)",
      "Cell \u001b[1;32mIn[49], line 2\u001b[0m\n\u001b[0;32m      1\u001b[0m \u001b[38;5;66;03m#del deleta um item do dicionário a partir da chave com parâmetro\u001b[39;00m\n\u001b[1;32m----> 2\u001b[0m \u001b[38;5;28;01mdel\u001b[39;00m contatos[\u001b[38;5;124m\"\u001b[39m\u001b[38;5;124m@guilhermegmail.com\u001b[39m\u001b[38;5;124m\"\u001b[39m]\n\u001b[0;32m      3\u001b[0m \u001b[38;5;28mprint\u001b[39m(contatos)\n",
      "\u001b[1;31mKeyError\u001b[0m: '@guilhermegmail.com'"
     ]
    }
   ],
   "source": [
    "#del deleta um item do dicionário a partir da chave com parâmetro\n",
    "del contatos[\"@guilhermegmail.com\"]\n"
   ]
  },
  {
   "cell_type": "code",
   "execution_count": 50,
   "metadata": {},
   "outputs": [
    {
     "name": "stdout",
     "output_type": "stream",
     "text": [
      "{'@mariagmail.com': {'nome': 'Maria', 'idade': 22}, '@joaogmail.com': {'nome': 'João', 'idade': 35}}\n"
     ]
    }
   ],
   "source": [
    "print(contatos)"
   ]
  },
  {
   "cell_type": "code",
   "execution_count": 54,
   "metadata": {},
   "outputs": [
    {
     "data": {
      "text/plain": [
       "(4, 6)"
      ]
     },
     "execution_count": 54,
     "metadata": {},
     "output_type": "execute_result"
    }
   ],
   "source": [
    "#funções e, python são declaradas com a palavra reservada def. Em python funções de duas diferenças principais de outras linguagens. Primeiro: toda função deve receber um parâmetro self, obrigatório em métodos de instância, esse parâmetro faz a função se referenciar (pode ser a própria palavra self), então se adicionarmos um oarâmetro necessário, porém não referenciar o self, esse parâmetro irá automaticamente se tornar o self, e funções em python podem ter dois retornos\n",
    "\n",
    "def retornar_sucessor_e_antecessor(numero):\n",
    "    antecessor = int(numero-1)\n",
    "    sucessor = int(numero+1)\n",
    "    return antecessor, sucessor\n",
    "\n",
    "retornar_sucessor_e_antecessor(5)\n"
   ]
  },
  {
   "cell_type": "code",
   "execution_count": 55,
   "metadata": {},
   "outputs": [
    {
     "name": "stdout",
     "output_type": "stream",
     "text": [
      "Olá anonimo seja bem vndo ao Python\n",
      "Olá Felipe seja bem vndo ao Python\n"
     ]
    }
   ],
   "source": [
    "#em python também é possível deixarmos valores pré-configurados em nossas funções, assim mesmo se o usuário não indicar um valor, o python irá considerar esse valor padrão\n",
    "\n",
    "def apresentacao(nome=\"anonimo\"):\n",
    "    print(f\"Olá {nome} seja bem vndo ao Python\")\n",
    "\n",
    "apresentacao()\n",
    "\n",
    "apresentacao(\"Felipe\")"
   ]
  },
  {
   "cell_type": "code",
   "execution_count": 56,
   "metadata": {},
   "outputs": [
    {
     "name": "stdout",
     "output_type": "stream",
     "text": [
      "Carro inserido com sucesso! fiat/Palio/1999/ABC-1234\n",
      "Carro inserido com sucesso! fiat/Palio/1999/ABC-1234\n",
      "Carro inserido com sucesso! Fiat/Palio/1999/ABC-1234\n"
     ]
    }
   ],
   "source": [
    "#quandoe estamos passando parâmetro para as nossa funções, podemos passar esse parâmetros de 3 formas, por ordem, explicita e em um dicionário\n",
    "\n",
    "def salvar_carro(marca, modelo, ano, placa):\n",
    "        # salvar carro no banco de dados\n",
    "        print(f\"Carro inserido com sucesso! {marca}/{modelo}/{ano}/{placa}\")\n",
    "\n",
    "#por ordem dos parâmetrosm porém se erra a ordem erros podem ocorrer\n",
    "salvar_carro(\"fiat\", \"Palio\", 1999, \"ABC-1234\")\n",
    "\n",
    "#forma explicita, indicando qual parâmetro refere qual valor\n",
    "salvar_carro(marca= \"fiat\", modelo=\"Palio\", ano= 1999, placa= \"ABC-1234\") \n",
    "\n",
    "#passando um dicionário sendo chave o var do parâmetro e o valor o parâmetro(indicamos que é um dicionário usando **)\n",
    "salvar_carro(**{\"marca\": \"Fiat\", \"modelo\": \"Palio\", \"ano\": 1999, \"placa\": \"ABC-1234\"})\n",
    "\n",
    "\n"
   ]
  },
  {
   "cell_type": "code",
   "execution_count": 62,
   "metadata": {},
   "outputs": [],
   "source": [
    "#*args e **kwargs, quando criamos um *args(qualquer variável com *) indicamos que iremos informar uma seuqência de argumentos separador por ',' um conjunto de tuplas. enquanto um **kwargs (qualquer variável acompanahda de **) estaremos indicando um dict, então termos uma chave e um valor\n",
    "\n",
    "def exibir_poema(data_extenso, *poema, **dados_autor):\n",
    "    poema_formatado = \"\\n\".join(poema)\n",
    "    return f\"{data_extenso}\\n\\n{poema_formatado}\\n\\n{dados_autor}\"\n"
   ]
  },
  {
   "cell_type": "code",
   "execution_count": 63,
   "metadata": {},
   "outputs": [
    {
     "name": "stdout",
     "output_type": "stream",
     "text": [
      "Sexta-Feira, 26 de agosto de 2020\n",
      "\n",
      "E agora, José?\n",
      "A festa acabou,\n",
      "a luz apagou,\n",
      "o povo sumiu,\n",
      "a noite esfriou,\n",
      "e agora, José?\n",
      "e agora, você?\n",
      "você que é sem nome,\n",
      "que zomba dos outros,\n",
      "você que faz versos,\n",
      "que ama, protesta?\n",
      "e agora, José?\n",
      "Está sem mulher,\n",
      "está sem discurso,\n",
      "está sem carinho,\n",
      "já não pode beber,\n",
      "já não pode fumar,\n",
      "cuspir já não pode,\n",
      "a noite esfriou,\n",
      "o dia não veio,\n",
      "o bonde não veio,\n",
      "o riso não veio,\n",
      "não veio a utopia\n",
      "e tudo acabou,\n",
      "e tudo fugiu,\n",
      "e tudo mofou,\n",
      "e agora, José?\n",
      "\n",
      "{'autor': 'Drummond de Andrade', 'ano': 1980}\n"
     ]
    }
   ],
   "source": [
    "print(\n",
    "    exibir_poema(\n",
    "        \"Sexta-Feira, 26 de agosto de 2020\",\n",
    "        \"E agora, José?\",\n",
    "        \"A festa acabou,\",\n",
    "        \"a luz apagou,\",\n",
    "        \"o povo sumiu,\",\n",
    "        \"a noite esfriou,\",\n",
    "        \"e agora, José?\",\n",
    "        \"e agora, você?\",\n",
    "        \"você que é sem nome,\",\n",
    "        \"que zomba dos outros,\",\n",
    "        \"você que faz versos,\",\n",
    "        \"que ama, protesta?\",\n",
    "        \"e agora, José?\",\n",
    "        \"Está sem mulher,\",\n",
    "        \"está sem discurso,\",\n",
    "        \"está sem carinho,\",\n",
    "        \"já não pode beber,\",\n",
    "        \"já não pode fumar,\",\n",
    "        \"cuspir já não pode,\",\n",
    "        \"a noite esfriou,\",\n",
    "        \"o dia não veio,\",\n",
    "        \"o bonde não veio,\",\n",
    "        \"o riso não veio,\",\n",
    "        \"não veio a utopia\",\n",
    "        \"e tudo acabou,\",\n",
    "        \"e tudo fugiu,\",\n",
    "        \"e tudo mofou,\",\n",
    "        \"e agora, José?\",\n",
    "        autor=\"Drummond de Andrade\",\n",
    "        ano=1980\n",
    "    )\n",
    ")"
   ]
  },
  {
   "cell_type": "code",
   "execution_count": null,
   "metadata": {},
   "outputs": [
    {
     "name": "stdout",
     "output_type": "stream",
     "text": [
      "1 2 5 4\n"
     ]
    }
   ],
   "source": [
    "#restrições com / e * -> permite especificar onde usar argumentos somente posicionais ou somente nomeados.\n",
    "#/(somente posicionais) Os parâmetro antes de / só podem ser passados por posição (não por nome)\n",
    "\n",
    "def funcao(a,b, /, c, d):\n",
    "    print(a,b,c,d)\n",
    "\n",
    "funcao(1,2, c=5, d=4) # certo, vale lembrar que se um argumento for explicito, todos após esse também tem que ser\n",
    "funcao(a=7,b=5,c=9,d=10) #errado, mesmo que o compilador não acuse, quando tentarmos compilar irá gerar erro"
   ]
  },
  {
   "cell_type": "code",
   "execution_count": 3,
   "metadata": {},
   "outputs": [
    {
     "name": "stdout",
     "output_type": "stream",
     "text": [
      "Nome: Felipe, Idade: 25, Cidade: São Paulo\n"
     ]
    }
   ],
   "source": [
    "#*(explicitos) indica que todos os argumentos que virem depois do sinal terão que ser obrigatóriamente nomeados\n",
    "\n",
    "def mostrar_informacoes(nome, *, idade, cidade):\n",
    "    return f\"Nome: {nome}, Idade: {idade}, Cidade: {cidade}\"\n",
    "\n",
    "print(mostrar_informacoes(\"Felipe\", idade=25, cidade=\"São Paulo\" ))"
   ]
  },
  {
   "cell_type": "code",
   "execution_count": null,
   "metadata": {},
   "outputs": [
    {
     "ename": "SyntaxError",
     "evalue": "invalid character '´' (U+00B4) (3670385418.py, line 1)",
     "output_type": "error",
     "traceback": [
      "\u001b[1;36m  Cell \u001b[1;32mIn[4], line 1\u001b[1;36m\u001b[0m\n\u001b[1;33m    QWFEEGV23qwqwreytio~p´]´hfvdcczxvbmnvz\\ ,\u001b[0m\n\u001b[1;37m                         ^\u001b[0m\n\u001b[1;31mSyntaxError\u001b[0m\u001b[1;31m:\u001b[0m invalid character '´' (U+00B4)\n"
     ]
    }
   ],
   "source": []
  },
  {
   "cell_type": "code",
   "execution_count": null,
   "metadata": {},
   "outputs": [],
   "source": []
  }
 ],
 "metadata": {
  "kernelspec": {
   "display_name": "base",
   "language": "python",
   "name": "python3"
  },
  "language_info": {
   "codemirror_mode": {
    "name": "ipython",
    "version": 3
   },
   "file_extension": ".py",
   "mimetype": "text/x-python",
   "name": "python",
   "nbconvert_exporter": "python",
   "pygments_lexer": "ipython3",
   "version": "3.12.7"
  }
 },
 "nbformat": 4,
 "nbformat_minor": 2
}
